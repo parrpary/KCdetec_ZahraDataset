{
 "cells": [
  {
   "cell_type": "code",
   "execution_count": null,
   "id": "0faa4711",
   "metadata": {},
   "outputs": [],
   "source": [
    "import os\n",
    "import glob\n",
    "import numpy as np\n",
    "# import pandas as pd\n",
    "import matplotlib.pyplot as plt\n",
    "\n",
    "import tensorflow as tf\n",
    "from tensorflow.keras.preprocessing.image import load_img, img_to_array\n",
    "# from tensorflow.keras import datasets, layers, models, losses\n",
    "\n",
    "from tqdm import tqdm\n",
    "import PIL\n",
    "import sys\n",
    "from PIL import Image"
   ]
  },
  {
   "cell_type": "code",
   "execution_count": null,
   "id": "f48b0dbb",
   "metadata": {},
   "outputs": [],
   "source": [
    "# num_classes = 3\n",
    "# EPOCHS = 8\n",
    "# BS = 32"
   ]
  },
  {
   "cell_type": "code",
   "execution_count": null,
   "id": "3fff5c15",
   "metadata": {},
   "outputs": [],
   "source": [
    "# data = []\n",
    "# labels = []\n",
    "\n",
    "# train_dirs = glob.glob(\"Data/Train/*\")\n",
    "# train_dirs.sort()\n",
    "# # print(train_dirs)\n",
    "# for train_dir in tqdm(train_dirs):\n",
    "#     dirs = glob.glob(train_dir + \"/*\")\n",
    "#     dirs.sort()\n",
    "    \n",
    "#     for train_dir in tqdm(dirs):\n",
    "#         imgPaths = glob.glob(train_dir + \"/*.jpg\")\n",
    "#         imgPaths.sort()\n",
    "        \n",
    "#         width = 224*7\n",
    "#         height = 224\n",
    "#         new_im = Image.new('RGB', (width,height))\n",
    "#         x_offset = 0\n",
    "#         for imgPath in tqdm(imgPaths):\n",
    "#             image = Image.open(imgPath)\n",
    "#             new_im.paste(image, (x_offset,0))\n",
    "#             x_offset += 224\n",
    "\n",
    "#         new_im = new_im.resize((392,56))\n",
    "# #         plt.imshow(new_im)\n",
    "#         new_im.save(\"Data_proccessed/\"+train_dir.split(os.path.sep)[2]+\"/\"+train_dir.split(os.path.sep)[3]+\".jpg\") \n",
    "            "
   ]
  },
  {
   "cell_type": "code",
   "execution_count": null,
   "id": "89c6dbf5",
   "metadata": {},
   "outputs": [],
   "source": [
    "# data = []\n",
    "# labels = []\n",
    "\n",
    "# train_dirs = glob.glob(\"Data/Test/*\")\n",
    "# train_dirs.sort()\n",
    "# # print(train_dirs)\n",
    "# for train_dir in tqdm(train_dirs):\n",
    "#     dirs = glob.glob(train_dir + \"/*\")\n",
    "#     dirs.sort()\n",
    "    \n",
    "#     for train_dir in tqdm(dirs):\n",
    "#         imgPaths = glob.glob(train_dir + \"/*.jpg\")\n",
    "#         imgPaths.sort()\n",
    "        \n",
    "#         width = 224*7\n",
    "#         height = 224\n",
    "#         new_im = Image.new('RGB', (width,height))\n",
    "#         x_offset = 0\n",
    "#         for imgPath in tqdm(imgPaths):\n",
    "#             image = Image.open(imgPath)\n",
    "#             new_im.paste(image, (x_offset,0))\n",
    "#             x_offset += 224\n",
    "\n",
    "#         new_im = new_im.resize((392,56))\n",
    "# #         plt.imshow(new_im)\n",
    "#         new_im.save(\"Data_proccessed/\"+train_dir.split(os.path.sep)[2]+\"/\"+train_dir.split(os.path.sep)[3]+\".jpg\") \n",
    "            "
   ]
  },
  {
   "cell_type": "code",
   "execution_count": null,
   "id": "363b41bc",
   "metadata": {},
   "outputs": [],
   "source": [
    "data = []\n",
    "labels = []\n",
    "\n",
    "train_dirs = glob.glob(\"Data/*\")\n",
    "train_dirs.sort()\n",
    "for train_dir in tqdm(train_dirs):\n",
    "    dirs = glob.glob(train_dir + \"/*\")\n",
    "    dirs.sort()\n",
    "    for train_dir in tqdm(dirs):\n",
    "        imgPaths = glob.glob(train_dir + \"/*.jpg\")\n",
    "        imgPaths.sort()\n",
    "        for imgPath in tqdm(imgPaths):\n",
    "            image = load_img(imgPath, target_size=(112, 112), grayscale=False)\n",
    "            image = img_to_array(image) \n",
    "            data.append(image)\n",
    "\n",
    "            label = imgPath.split(os.path.sep)[1]\n",
    "            label = int(label)\n",
    "            labels.append(label)\n",
    "\n",
    "data = np.array(data, dtype=np.float64) / 255.\n",
    "labels = np.array(labels)\n"
   ]
  },
  {
   "cell_type": "code",
   "execution_count": null,
   "id": "d179c2e4",
   "metadata": {},
   "outputs": [],
   "source": [
    "plt.figure()\n",
    "f, axarr = plt.subplots(1,3)\n",
    "\n",
    "# f.set_size_pixel(224*7,224)\n",
    "\n",
    "axarr[0].imshow(data[(1)+5])\n",
    "axarr[0].set_title(labels[(1)+5])\n",
    "\n",
    "axarr[1].imshow(data[(200)*7+5])\n",
    "axarr[1].set_title(labels[(200)*7+5])\n",
    "\n",
    "axarr[2].imshow(data[(200+173)*7+5])\n",
    "axarr[2].set_title(labels[(200+173)*7+5])\n",
    "\n",
    "print(\"Data\", data.shape, type(data))\n",
    "print(\"Label\", labels.shape, type(labels))"
   ]
  },
  {
   "cell_type": "code",
   "execution_count": null,
   "id": "1c28e297",
   "metadata": {},
   "outputs": [],
   "source": [
    "# from tensorflow.keras.utils import to_categorical\n",
    "\n",
    "# valid_target = to_categorical(valid_target)\n",
    "# labels = to_categorical(labels)\n",
    "\n",
    "print('Data set:', data.shape,  labels.shape)"
   ]
  },
  {
   "cell_type": "code",
   "execution_count": null,
   "id": "dc71f8d5",
   "metadata": {},
   "outputs": [],
   "source": [
    "np.save('data', data)\n",
    "np.save('labels', labels)"
   ]
  },
  {
   "cell_type": "code",
   "execution_count": null,
   "id": "a2016722",
   "metadata": {},
   "outputs": [],
   "source": [
    "from tensorflow.keras.utils import to_categorical\n",
    "\n",
    "labels = to_categorical(labels)\n",
    "\n",
    "print('Data set:', data.shape,  labels.shape)"
   ]
  },
  {
   "cell_type": "code",
   "execution_count": null,
   "id": "53c309f1",
   "metadata": {},
   "outputs": [],
   "source": []
  }
 ],
 "metadata": {
  "kernelspec": {
   "display_name": "Python 3",
   "language": "python",
   "name": "python3"
  },
  "language_info": {
   "codemirror_mode": {
    "name": "ipython",
    "version": 3
   },
   "file_extension": ".py",
   "mimetype": "text/x-python",
   "name": "python",
   "nbconvert_exporter": "python",
   "pygments_lexer": "ipython3",
   "version": "3.8.8"
  }
 },
 "nbformat": 4,
 "nbformat_minor": 5
}
